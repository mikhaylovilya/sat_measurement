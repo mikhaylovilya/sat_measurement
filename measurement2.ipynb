{
  "metadata": {
    "kernelspec": {
      "name": "python",
      "display_name": "Python (Pyodide)",
      "language": "python"
    },
    "language_info": {
      "codemirror_mode": {
        "name": "python",
        "version": 3
      },
      "file_extension": ".py",
      "mimetype": "text/x-python",
      "name": "python",
      "nbconvert_exporter": "python",
      "pygments_lexer": "ipython3",
      "version": "3.8"
    }
  },
  "nbformat_minor": 4,
  "nbformat": 4,
  "cells": [
    {
      "cell_type": "markdown",
      "source": "# Описание тестового стенда",
      "metadata": {}
    },
    {
      "cell_type": "markdown",
      "source": "Измерения проводились на ноутбуке HP Laptop 15s-eq2xxx:\n- ОС: Ubuntu 22.04;\n- Процессор: AMD Ryzen 5 5500U with Radeon Graphics, 2100 МГц, ядер: 6, логических процессоров: 12;\n- ОЗУ: 8Гб.\n\nБыли закрыты все приложения, был подключен к питанию ноутбук, сделан bash-скрипт, который чистил кэш и запускал программу на данных. Программа была скомпилирована в release mode (dotnet build -c release)",
      "metadata": {}
    },
    {
      "cell_type": "markdown",
      "source": "# Датасет",
      "metadata": {}
    },
    {
      "cell_type": "code",
      "source": "from scipy import stats\nimport numpy as np\nimport matplotlib.pyplot as plt",
      "metadata": {
        "trusted": true
      },
      "execution_count": 4,
      "outputs": []
    },
    {
      "cell_type": "code",
      "source": "with open(\"measure2.txt\") as file:\n    t = [int(x) for x in file]\nprint(t)\n",
      "metadata": {
        "trusted": true
      },
      "execution_count": 6,
      "outputs": [
        {
          "name": "stdout",
          "text": "[6726, 6704, 6676, 6720, 6634, 6704, 6673, 6616, 6809, 6799, 6593, 6746, 6817, 6584, 6768, 6535, 6688, 6638, 6585, 6847, 6492, 6858, 6620, 6695, 6919, 6651, 6757, 6768, 6693, 6942, 6542, 6521, 6783, 6842, 6897, 6844, 6741, 6834, 6728, 6741]\n",
          "output_type": "stream"
        }
      ]
    },
    {
      "cell_type": "markdown",
      "source": "# Гистограмма",
      "metadata": {}
    },
    {
      "cell_type": "code",
      "source": "plt.hist(t)",
      "metadata": {
        "trusted": true
      },
      "execution_count": 7,
      "outputs": [
        {
          "execution_count": 7,
          "output_type": "execute_result",
          "data": {
            "text/plain": "(array([3., 1., 5., 3., 7., 7., 4., 6., 1., 3.]),\n array([6492., 6537., 6582., 6627., 6672., 6717., 6762., 6807., 6852.,\n        6897., 6942.]),\n <BarContainer object of 10 artists>)"
          },
          "metadata": {}
        },
        {
          "output_type": "display_data",
          "data": {
            "text/plain": "<Figure size 640x480 with 1 Axes>",
            "image/png": "[encoded data removed]"
          },
          "metadata": {}
        }
      ]
    },
    {
      "cell_type": "markdown",
      "source": "# Нормальность",
      "metadata": {}
    },
    {
      "cell_type": "code",
      "source": "normaltest = stats.normaltest(t)\nshapirotest = stats.shapiro(t)\nprint(f'Normaltest p-value: {normaltest[1]}')\nprint(f'Shapirotest p-value: {shapirotest[1]}')\nif normaltest[1] > 0.05 or shapirotest[1]:\n    print(\"Тест на нормальность пройден (p-value > 0.05 хоть на одном из тестов)\")\nelse: \n    print(\"Тест на нормальность не пройден (p-value < 0.05 на обоих тестах)\")",
      "metadata": {
        "trusted": true
      },
      "execution_count": 8,
      "outputs": [
        {
          "name": "stdout",
          "text": "Normaltest p-value: 0.7003051994767229\nShapirotest p-value: 0.9192428588867188\nТест на нормальность пройден (p-value > 0.05 хоть на одном из тестов)\n",
          "output_type": "stream"
        }
      ]
    },
    {
      "cell_type": "markdown",
      "source": "# Среднее и стандартное отклонение",
      "metadata": {}
    },
    {
      "cell_type": "code",
      "source": "mean = np.mean(t)\nprint(f'Среднее: {mean}')",
      "metadata": {
        "trusted": true
      },
      "execution_count": 9,
      "outputs": [
        {
          "name": "stdout",
          "text": "Среднее: 6718.25\n",
          "output_type": "stream"
        }
      ]
    },
    {
      "cell_type": "code",
      "source": "std = np.std(t, ddof=1)\nprint(f'Стандартное отклонение: {std}')",
      "metadata": {
        "trusted": true
      },
      "execution_count": 10,
      "outputs": [
        {
          "name": "stdout",
          "text": "Стандартное отклонение: 112.17791500729818\n",
          "output_type": "stream"
        }
      ]
    },
    {
      "cell_type": "code",
      "source": "print(f'Стандартное отклонение {round(std/mean * 100)}% от среднего')",
      "metadata": {
        "trusted": true
      },
      "execution_count": 11,
      "outputs": [
        {
          "name": "stdout",
          "text": "Стандартное отклонение 2% от среднего\n",
          "output_type": "stream"
        }
      ]
    },
    {
      "cell_type": "markdown",
      "source": "# Доверительный интервал",
      "metadata": {}
    },
    {
      "cell_type": "code",
      "source": "conf = stats.t.ppf(0.975, df=len(t)-1)*stats.sem(t)\nprint(f'Погрешность: {conf}')",
      "metadata": {
        "trusted": true
      },
      "execution_count": 19,
      "outputs": [
        {
          "name": "stdout",
          "text": "Погрешность: 35.876237567723756\n",
          "output_type": "stream"
        }
      ]
    },
    {
      "cell_type": "code",
      "source": "rounded_conf = round(conf, -1) / 1000\nprint(f'Округленный доверительный интервал (в секундах): {rounded_conf}')\nrounded_mean_conf = round(mean, -1) / 1000\nprint(f'Округленное среднее (в секундах): {rounded_mean_conf}')\nprint(f'95% Доверительный интервал: {rounded_mean_conf} +- {rounded_conf}')",
      "metadata": {
        "trusted": true
      },
      "execution_count": 20,
      "outputs": [
        {
          "name": "stdout",
          "text": "Округленный доверительный интервал (в секундах): 0.04\nОкругленное среднее (в секундах): 6.72\n95% Доверительный интервал: 6.72 +- 0.04\n",
          "output_type": "stream"
        }
      ]
    },
    {
      "cell_type": "markdown",
      "source": "# Предсказывающий интервал\n",
      "metadata": {}
    },
    {
      "cell_type": "code",
      "source": "pred = std * 2\nprint(f'Погрешность: {pred}')",
      "metadata": {
        "trusted": true
      },
      "execution_count": 21,
      "outputs": [
        {
          "name": "stdout",
          "text": "Погрешность: 224.35583001459636\n",
          "output_type": "stream"
        }
      ]
    },
    {
      "cell_type": "code",
      "source": "rounded_pred = round(pred, -2) / 1000\nprint(f'Округленный предсказывающий интервал (в секундах): {rounded_pred}')\nrounded_mean_pred = round(mean, -2) / 1000\nprint(f'Округленное среднее (в секундах): {rounded_mean_pred}')\nprint(f'95% Предсказывающий интервал: {rounded_mean_pred} +- {rounded_pred}')",
      "metadata": {
        "trusted": true
      },
      "execution_count": 22,
      "outputs": [
        {
          "name": "stdout",
          "text": "Округленный предсказывающий интервал (в секундах): 0.2\nОкругленное среднее (в секундах): 6.7\n95% Предсказывающий интервал: 6.7 +- 0.2\n",
          "output_type": "stream"
        }
      ]
    },
    {
      "cell_type": "code",
      "source": "",
      "metadata": {},
      "execution_count": null,
      "outputs": []
    },
    {
      "cell_type": "code",
      "source": "",
      "metadata": {},
      "execution_count": null,
      "outputs": []
    }
  ]
}