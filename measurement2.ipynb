{
  "metadata": {
    "language_info": {
      "codemirror_mode": {
        "name": "python",
        "version": 3
      },
      "file_extension": ".py",
      "mimetype": "text/x-python",
      "name": "python",
      "nbconvert_exporter": "python",
      "pygments_lexer": "ipython3",
      "version": "3.8"
    },
    "kernelspec": {
      "name": "python",
      "display_name": "Python (Pyodide)",
      "language": "python"
    }
  },
  "nbformat_minor": 4,
  "nbformat": 4,
  "cells": [
    {
      "cell_type": "markdown",
      "source": "# Описание тестового стенда",
      "metadata": {}
    },
    {
      "cell_type": "markdown",
      "source": "Были закрыты все приложения, сделан bash-скрипт, который чистил кэш и запускал программу на данных. Программа была скомпилирована в release mode (dotnet build -c release)",
      "metadata": {}
    },
    {
      "cell_type": "markdown",
      "source": "# Датасет",
      "metadata": {}
    },
    {
      "cell_type": "code",
      "source": "from scipy import stats\nimport numpy as np\nimport matplotlib.pyplot as plt",
      "metadata": {
        "trusted": true
      },
      "execution_count": 13,
      "outputs": []
    },
    {
      "cell_type": "code",
      "source": "with open(\"measure2.txt\") as file:\n    t = [int(x) for x in file]\nprint(t)\n",
      "metadata": {
        "trusted": true
      },
      "execution_count": 11,
      "outputs": [
        {
          "name": "stdout",
          "text": "[8943, 9024, 8864, 8972, 9116, 8989, 9027, 8853, 8970, 8969, 9078, 8899, 8965, 9232, 9016, 8853, 8912, 9228, 8865, 8875, 9119, 9064, 9091, 8836, 8847, 8861, 8917, 9258, 9096, 9058, 9082, 8916, 8867, 9084, 9142, 9045, 9289, 9053, 8829, 8893]\n",
          "output_type": "stream"
        }
      ]
    },
    {
      "cell_type": "markdown",
      "source": "# Гистограмма",
      "metadata": {}
    },
    {
      "cell_type": "code",
      "source": "plt.hist(t)",
      "metadata": {
        "trusted": true
      },
      "execution_count": 15,
      "outputs": [
        {
          "execution_count": 15,
          "output_type": "execute_result",
          "data": {
            "text/plain": "(array([9., 6., 2., 4., 6., 6., 3., 0., 2., 2.]),\n array([8829., 8875., 8921., 8967., 9013., 9059., 9105., 9151., 9197.,\n        9243., 9289.]),\n <BarContainer object of 10 artists>)"
          },
          "metadata": {}
        },
        {
          "output_type": "display_data",
          "data": {
            "text/plain": "<Figure size 640x480 with 1 Axes>",
            "image/png": "[encoded data removed]"
          },
          "metadata": {}
        }
      ]
    },
    {
      "cell_type": "markdown",
      "source": "# Нормальность",
      "metadata": {}
    },
    {
      "cell_type": "code",
      "source": "stats.normaltest(t)",
      "metadata": {
        "trusted": true
      },
      "execution_count": 16,
      "outputs": [
        {
          "execution_count": 16,
          "output_type": "execute_result",
          "data": {
            "text/plain": "NormaltestResult(statistic=2.5660905153333875, pvalue=0.2771918931272628)"
          },
          "metadata": {}
        }
      ]
    },
    {
      "cell_type": "code",
      "source": "stats.shapiro(t)",
      "metadata": {
        "trusted": true
      },
      "execution_count": 17,
      "outputs": [
        {
          "execution_count": 17,
          "output_type": "execute_result",
          "data": {
            "text/plain": "ShapiroResult(statistic=0.9376734495162964, pvalue=0.02888534963130951)"
          },
          "metadata": {}
        }
      ]
    },
    {
      "cell_type": "markdown",
      "source": "# Среднее и стандартное отклонение",
      "metadata": {}
    },
    {
      "cell_type": "code",
      "source": "np.mean(t)",
      "metadata": {
        "trusted": true
      },
      "execution_count": 18,
      "outputs": [
        {
          "execution_count": 18,
          "output_type": "execute_result",
          "data": {
            "text/plain": "8999.925"
          },
          "metadata": {}
        }
      ]
    },
    {
      "cell_type": "code",
      "source": "np.std(t, ddof=1)",
      "metadata": {
        "trusted": true
      },
      "execution_count": 19,
      "outputs": [
        {
          "execution_count": 19,
          "output_type": "execute_result",
          "data": {
            "text/plain": "125.8396186238047"
          },
          "metadata": {}
        }
      ]
    },
    {
      "cell_type": "markdown",
      "source": "# Доверительный интервал",
      "metadata": {}
    },
    {
      "cell_type": "code",
      "source": "stats.t.ppf(0.975, df=len(t)-1)*stats.sem(t)",
      "metadata": {
        "trusted": true
      },
      "execution_count": 20,
      "outputs": [
        {
          "execution_count": 20,
          "output_type": "execute_result",
          "data": {
            "text/plain": "40.24546233441452"
          },
          "metadata": {}
        }
      ]
    }
  ]
}