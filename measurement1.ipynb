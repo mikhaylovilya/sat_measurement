{
  "metadata": {
    "language_info": {
      "codemirror_mode": {
        "name": "python",
        "version": 3
      },
      "file_extension": ".py",
      "mimetype": "text/x-python",
      "name": "python",
      "nbconvert_exporter": "python",
      "pygments_lexer": "ipython3",
      "version": "3.8"
    },
    "kernelspec": {
      "name": "python",
      "display_name": "Python (Pyodide)",
      "language": "python"
    }
  },
  "nbformat_minor": 4,
  "nbformat": 4,
  "cells": [
    {
      "cell_type": "markdown",
      "source": "# Описание тестового стенда",
      "metadata": {}
    },
    {
      "cell_type": "markdown",
      "source": "Были закрыты все приложения, сделан bash-скрипт, который чистил кэш и запускал программу на данных. Программа была скомпилирована в release mode (dotnet build -c release)",
      "metadata": {}
    },
    {
      "cell_type": "markdown",
      "source": "# Датасет",
      "metadata": {}
    },
    {
      "cell_type": "markdown",
      "source": "(здесь датасет)",
      "metadata": {}
    },
    {
      "cell_type": "code",
      "source": "from scipy import stats\nimport numpy as np\nimport matplotlib.pyplot as plt",
      "metadata": {
        "trusted": true
      },
      "execution_count": 3,
      "outputs": []
    },
    {
      "cell_type": "code",
      "source": "with open(\"measure1.txt\") as file:\n    t = [int(x) for x in file]\nprint(t)\n",
      "metadata": {
        "trusted": true
      },
      "execution_count": 14,
      "outputs": [
        {
          "name": "stdout",
          "text": "[8598, 8635, 8737, 8760, 8666, 8757, 8690, 8812, 8607, 8799, 8971, 8721, 8775, 8683, 8823, 8763, 9344, 9639, 8741, 8939, 8919, 8718, 8840, 8938, 8840, 8969, 8942, 8783, 8931, 8656, 8631, 8685, 8862, 8846, 8885, 8891, 8831, 8791, 8709, 8809]\n",
          "output_type": "stream"
        }
      ]
    },
    {
      "cell_type": "markdown",
      "source": "# Гистограмма",
      "metadata": {}
    },
    {
      "cell_type": "code",
      "source": "plt.hist(t)",
      "metadata": {
        "trusted": true
      },
      "execution_count": 15,
      "outputs": [
        {
          "execution_count": 15,
          "output_type": "execute_result",
          "data": {
            "text/plain": "(array([ 9., 12., 10.,  7.,  0.,  0.,  0.,  1.,  0.,  1.]),\n array([8598. , 8702.1, 8806.2, 8910.3, 9014.4, 9118.5, 9222.6, 9326.7,\n        9430.8, 9534.9, 9639. ]),\n <BarContainer object of 10 artists>)"
          },
          "metadata": {}
        },
        {
          "output_type": "display_data",
          "data": {
            "text/plain": "<Figure size 640x480 with 1 Axes>",
            "image/png": "[encoded data removed]"
          },
          "metadata": {}
        }
      ]
    },
    {
      "cell_type": "markdown",
      "source": "# Нормальность",
      "metadata": {}
    },
    {
      "cell_type": "code",
      "source": "stats.normaltest(t)",
      "metadata": {
        "trusted": true
      },
      "execution_count": 11,
      "outputs": [
        {
          "execution_count": 11,
          "output_type": "execute_result",
          "data": {
            "text/plain": "NormaltestResult(statistic=40.566394600632535, pvalue=1.5528136394785158e-09)"
          },
          "metadata": {}
        }
      ]
    },
    {
      "cell_type": "code",
      "source": "stats.shapiro(t)",
      "metadata": {
        "trusted": true
      },
      "execution_count": 13,
      "outputs": [
        {
          "execution_count": 13,
          "output_type": "execute_result",
          "data": {
            "text/plain": "ShapiroResult(statistic=0.7666880488395691, pvalue=1.4678726074635051e-06)"
          },
          "metadata": {}
        }
      ]
    },
    {
      "cell_type": "markdown",
      "source": "# Среднее и стандартное отклонение",
      "metadata": {}
    },
    {
      "cell_type": "code",
      "source": "np.mean(t)",
      "metadata": {
        "trusted": true
      },
      "execution_count": 17,
      "outputs": [
        {
          "execution_count": 17,
          "output_type": "execute_result",
          "data": {
            "text/plain": "8823.4"
          },
          "metadata": {}
        }
      ]
    },
    {
      "cell_type": "code",
      "source": "np.std(t, ddof=1)",
      "metadata": {
        "trusted": true
      },
      "execution_count": 19,
      "outputs": [
        {
          "execution_count": 19,
          "output_type": "execute_result",
          "data": {
            "text/plain": "189.3337576737751"
          },
          "metadata": {}
        }
      ]
    },
    {
      "cell_type": "markdown",
      "source": "# Доверительный интервал",
      "metadata": {}
    },
    {
      "cell_type": "code",
      "source": "stats.t.ppf(0.975, df=len(t)-1)*stats.sem(t)",
      "metadata": {
        "trusted": true
      },
      "execution_count": 20,
      "outputs": [
        {
          "execution_count": 20,
          "output_type": "execute_result",
          "data": {
            "text/plain": "60.551873062111"
          },
          "metadata": {}
        }
      ]
    }
  ]
}