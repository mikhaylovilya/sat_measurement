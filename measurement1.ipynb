{
  "metadata": {
    "language_info": {
      "codemirror_mode": {
        "name": "python",
        "version": 3
      },
      "file_extension": ".py",
      "mimetype": "text/x-python",
      "name": "python",
      "nbconvert_exporter": "python",
      "pygments_lexer": "ipython3",
      "version": "3.8"
    },
    "kernelspec": {
      "name": "python",
      "display_name": "Python (Pyodide)",
      "language": "python"
    }
  },
  "nbformat_minor": 4,
  "nbformat": 4,
  "cells": [
    {
      "cell_type": "markdown",
      "source": "# Описание тестового стенда",
      "metadata": {}
    },
    {
      "cell_type": "markdown",
      "source": "Были закрыты все приложения, сделан bash-скрипт, который чистил кэш и запускал программу на данных. Программа была скомпилирована в release mode (dotnet build -c release)",
      "metadata": {}
    },
    {
      "cell_type": "markdown",
      "source": "# Датасет",
      "metadata": {}
    },
    {
      "cell_type": "markdown",
      "source": "(здесь датасет)",
      "metadata": {}
    },
    {
      "cell_type": "code",
      "source": "from scipy import stats\nimport numpy as np\nimport matplotlib.pyplot as plt",
      "metadata": {
        "trusted": true
      },
      "execution_count": 3,
      "outputs": []
    },
    {
      "cell_type": "code",
      "source": "with open(\"measure1.txt\") as file:\n    t = [int(x) for x in file]\nprint(t)\n",
      "metadata": {
        "trusted": true
      },
      "execution_count": 4,
      "outputs": [
        {
          "name": "stdout",
          "text": "[6572, 6582, 6582, 6839, 6823, 6793, 6778, 6555, 6786, 6620, 6681, 6759, 6772, 6651, 6716, 6562, 6889, 6751, 6919, 6943, 6655, 6827, 6520, 6782, 6641, 6820, 6662, 6614, 6837, 6706, 6791, 6609, 6709, 6633, 6644, 6706, 6580, 6613, 6750, 6784]\n",
          "output_type": "stream"
        }
      ]
    },
    {
      "cell_type": "markdown",
      "source": "# Гистограмма",
      "metadata": {}
    },
    {
      "cell_type": "code",
      "source": "plt.hist(t)",
      "metadata": {
        "trusted": true
      },
      "execution_count": 5,
      "outputs": [
        {
          "execution_count": 5,
          "output_type": "execute_result",
          "data": {
            "text/plain": "(array([3., 4., 7., 4., 4., 4., 6., 5., 1., 2.]),\n array([6520. , 6562.3, 6604.6, 6646.9, 6689.2, 6731.5, 6773.8, 6816.1,\n        6858.4, 6900.7, 6943. ]),\n <BarContainer object of 10 artists>)"
          },
          "metadata": {}
        },
        {
          "output_type": "display_data",
          "data": {
            "text/plain": "<Figure size 640x480 with 1 Axes>",
            "image/png": "[encoded data removed]"
          },
          "metadata": {}
        }
      ]
    },
    {
      "cell_type": "markdown",
      "source": "# Нормальность",
      "metadata": {}
    },
    {
      "cell_type": "code",
      "source": "stats.normaltest(t)",
      "metadata": {
        "trusted": true
      },
      "execution_count": 6,
      "outputs": [
        {
          "execution_count": 6,
          "output_type": "execute_result",
          "data": {
            "text/plain": "NormaltestResult(statistic=2.6404211660614427, pvalue=0.2670790537270199)"
          },
          "metadata": {}
        }
      ]
    },
    {
      "cell_type": "code",
      "source": "stats.shapiro(t)",
      "metadata": {
        "trusted": true
      },
      "execution_count": 7,
      "outputs": [
        {
          "execution_count": 7,
          "output_type": "execute_result",
          "data": {
            "text/plain": "ShapiroResult(statistic=0.967320442199707, pvalue=0.2950368821620941)"
          },
          "metadata": {}
        }
      ]
    },
    {
      "cell_type": "markdown",
      "source": "# Среднее и стандартное отклонение",
      "metadata": {}
    },
    {
      "cell_type": "code",
      "source": "np.mean(t)",
      "metadata": {
        "trusted": true
      },
      "execution_count": 8,
      "outputs": [
        {
          "execution_count": 8,
          "output_type": "execute_result",
          "data": {
            "text/plain": "6711.4"
          },
          "metadata": {}
        }
      ]
    },
    {
      "cell_type": "code",
      "source": "np.std(t, ddof=1)",
      "metadata": {
        "trusted": true
      },
      "execution_count": 9,
      "outputs": [
        {
          "execution_count": 9,
          "output_type": "execute_result",
          "data": {
            "text/plain": "108.33585006938567"
          },
          "metadata": {}
        }
      ]
    },
    {
      "cell_type": "markdown",
      "source": "# Доверительный интервал",
      "metadata": {}
    },
    {
      "cell_type": "code",
      "source": "stats.t.ppf(0.975, df=len(t)-1)*stats.sem(t)",
      "metadata": {
        "trusted": true
      },
      "execution_count": 10,
      "outputs": [
        {
          "execution_count": 10,
          "output_type": "execute_result",
          "data": {
            "text/plain": "34.647485594091485"
          },
          "metadata": {}
        }
      ]
    },
    {
      "cell_type": "code",
      "source": "",
      "metadata": {},
      "execution_count": null,
      "outputs": []
    }
  ]
}