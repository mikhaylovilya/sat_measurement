{
  "cells": [
    {
      "cell_type": "markdown",
      "metadata": {},
      "source": [
        "# Описание тестового стенда"
      ]
    },
    {
      "cell_type": "markdown",
      "metadata": {},
      "source": [
        "Измерения проводились на ноутбуке HP Laptop 15s-eq2xxx:\n",
        "- ОС: Ubuntu 22.04;\n",
        "- Процессор: AMD Ryzen 5 5500U with Radeon Graphics, 2100 МГц, ядер: 6, логических процессоров: 12;\n",
        "- ОЗУ: 8Гб.\n",
        "\n",
        "Были закрыты все приложения, был подключен к питанию ноутбук, сделан bash-скрипт, который чистил кэш и запускал программу на данных. Программа была скомпилирована в release mode (dotnet build -c release)"
      ]
    },
    {
      "cell_type": "markdown",
      "metadata": {},
      "source": [
        "# Датасет"
      ]
    },
    {
      "cell_type": "code",
      "execution_count": 7,
      "metadata": {
        "trusted": true
      },
      "outputs": [],
      "source": [
        "from scipy import stats\n",
        "import numpy as np\n",
        "import matplotlib.pyplot as plt"
      ]
    },
    {
      "cell_type": "code",
      "execution_count": 8,
      "metadata": {
        "trusted": true
      },
      "outputs": [
        {
          "name": "stdout",
          "output_type": "stream",
          "text": [
            "[6572, 6582, 6582, 6839, 6823, 6793, 6778, 6555, 6786, 6620, 6681, 6759, 6772, 6651, 6716, 6562, 6889, 6751, 6919, 6943, 6655, 6827, 6520, 6782, 6641, 6820, 6662, 6614, 6837, 6706, 6791, 6609, 6709, 6633, 6644, 6706, 6580, 6613, 6750, 6784]\n"
          ]
        }
      ],
      "source": [
        "with open(\"measure1.txt\") as file:\n",
        "    t = [int(x) for x in file]\n",
        "print(t)\n"
      ]
    },
    {
      "cell_type": "markdown",
      "metadata": {},
      "source": [
        "# Гистограмма"
      ]
    },
    {
      "cell_type": "code",
      "execution_count": 9,
      "metadata": {
        "trusted": true
      },
      "outputs": [
        {
          "data": {
            "text/plain": [
              "(array([3., 4., 7., 4., 4., 4., 6., 5., 1., 2.]),\n",
              " array([6520. , 6562.3, 6604.6, 6646.9, 6689.2, 6731.5, 6773.8, 6816.1,\n",
              "        6858.4, 6900.7, 6943. ]),\n",
              " <BarContainer object of 10 artists>)"
            ]
          },
          "execution_count": 9,
          "metadata": {},
          "output_type": "execute_result"
        },
        {
          "data": {
            "image/png": "[encoded data removed]",
            "text/plain": [
              "<Figure size 640x480 with 1 Axes>"
            ]
          },
          "metadata": {},
          "output_type": "display_data"
        }
      ],
      "source": [
        "plt.hist(t)"
      ]
    },
    {
      "cell_type": "markdown",
      "metadata": {},
      "source": [
        "# Нормальность"
      ]
    },
    {
      "cell_type": "code",
      "execution_count": 10,
      "metadata": {
        "trusted": true
      },
      "outputs": [
        {
          "name": "stdout",
          "output_type": "stream",
          "text": [
            "Normaltest p-value: 0.2670790537270199\n",
            "Shapirotest p-value: 0.29503360390663147\n",
            "Тест на нормальность пройден (p-value > 0.05 хоть на одном из тестов)\n"
          ]
        }
      ],
      "source": [
        "normaltest = stats.normaltest(t)\n",
        "shapirotest = stats.shapiro(t)\n",
        "print(f'Normaltest p-value: {normaltest[1]}')\n",
        "print(f'Shapirotest p-value: {shapirotest[1]}')\n",
        "if normaltest[1] > 0.05 or shapirotest[1]:\n",
        "    print(\"Тест на нормальность пройден (p-value > 0.05 хоть на одном из тестов)\")\n",
        "else: \n",
        "    print(\"Тест на нормальность не пройден (p-value < 0.05 на обоих тестах)\")"
      ]
    },
    {
      "cell_type": "markdown",
      "metadata": {},
      "source": [
        "# Среднее и стандартное отклонение"
      ]
    },
    {
      "cell_type": "code",
      "execution_count": 11,
      "metadata": {
        "trusted": true
      },
      "outputs": [
        {
          "name": "stdout",
          "output_type": "stream",
          "text": [
            "Среднее: 6711.4\n"
          ]
        }
      ],
      "source": [
        "mean = np.mean(t)\n",
        "print(f'Среднее: {mean}')"
      ]
    },
    {
      "cell_type": "code",
      "execution_count": 12,
      "metadata": {
        "trusted": true
      },
      "outputs": [
        {
          "name": "stdout",
          "output_type": "stream",
          "text": [
            "Стандартное отклонение: 108.33585006938567\n"
          ]
        }
      ],
      "source": [
        "std = np.std(t, ddof=1)\n",
        "print(f'Стандартное отклонение: {std}')"
      ]
    },
    {
      "cell_type": "code",
      "execution_count": 13,
      "metadata": {
        "trusted": true
      },
      "outputs": [
        {
          "name": "stdout",
          "output_type": "stream",
          "text": [
            "Стандартное отклонение 2% от среднего\n"
          ]
        }
      ],
      "source": [
        "print(f'Стандартное отклонение {round(std/mean * 100)}% от среднего')"
      ]
    },
    {
      "cell_type": "markdown",
      "metadata": {},
      "source": [
        "# Доверительный интервал"
      ]
    },
    {
      "cell_type": "code",
      "execution_count": 18,
      "metadata": {
        "trusted": true
      },
      "outputs": [
        {
          "name": "stdout",
          "output_type": "stream",
          "text": [
            "Погрешность: 34.647485594091485\n"
          ]
        }
      ],
      "source": [
        "conf = stats.t.ppf(0.975, df=len(t)-1)*stats.sem(t)\n",
        "print(f'Погрешность: {conf}')"
      ]
    },
    {
      "cell_type": "code",
      "execution_count": 15,
      "metadata": {
        "trusted": true
      },
      "outputs": [
        {
          "name": "stdout",
          "output_type": "stream",
          "text": [
            "Округленный доверительный интервал (в секундах): 0.03\n",
            "Округленное среднее (в секундах): 6.71\n",
            "95% Доверительный интервал: 6.71 ± 0.03\n"
          ]
        }
      ],
      "source": [
        "rounded_conf = round(conf, -1) / 1000\n",
        "print(f'Округленный доверительный интервал (в секундах): {rounded_conf}')\n",
        "rounded_mean_conf = round(mean, -1) / 1000\n",
        "print(f'Округленное среднее (в секундах): {rounded_mean_conf}')\n",
        "print(f'95% Доверительный интервал: {rounded_mean_conf} ± {rounded_conf}')"
      ]
    },
    {
      "cell_type": "markdown",
      "metadata": {},
      "source": [
        "# Предсказывающий интервал\n"
      ]
    },
    {
      "cell_type": "code",
      "execution_count": 19,
      "metadata": {
        "trusted": true
      },
      "outputs": [
        {
          "name": "stdout",
          "output_type": "stream",
          "text": [
            "Погрешность: 216.67170013877134\n"
          ]
        }
      ],
      "source": [
        "pred = std * 2\n",
        "print(f'Погрешность: {pred}')"
      ]
    },
    {
      "cell_type": "code",
      "execution_count": 17,
      "metadata": {
        "trusted": true
      },
      "outputs": [
        {
          "name": "stdout",
          "output_type": "stream",
          "text": [
            "Округленный предсказывающий интервал (в секундах): 0.2\n",
            "Округленное среднее (в секундах): 6.7\n",
            "95% Предсказывающий интервал: 6.7 ± 0.2\n"
          ]
        }
      ],
      "source": [
        "rounded_pred = round(pred, -2) / 1000\n",
        "print(f'Округленный предсказывающий интервал (в секундах): {rounded_pred}')\n",
        "rounded_mean_pred = round(mean, -2) / 1000\n",
        "print(f'Округленное среднее (в секундах): {rounded_mean_pred}')\n",
        "print(f'95% Предсказывающий интервал: {rounded_mean_pred} ± {rounded_pred}')"
      ]
    }
  ],
  "metadata": {
    "kernelspec": {
      "display_name": "Python 3",
      "language": "python",
      "name": "python3"
    },
    "language_info": {
      "codemirror_mode": {
        "name": "ipython",
        "version": 3
      },
      "file_extension": ".py",
      "mimetype": "text/x-python",
      "name": "python",
      "nbconvert_exporter": "python",
      "pygments_lexer": "ipython3",
      "version": "3.8.10"
    }
  },
  "nbformat": 4,
  "nbformat_minor": 4
}
